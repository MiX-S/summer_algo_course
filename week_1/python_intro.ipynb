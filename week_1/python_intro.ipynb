{
  "nbformat": 4,
  "nbformat_minor": 0,
  "metadata": {
    "colab": {
      "name": "python_intro.ipynb",
      "provenance": [],
      "toc_visible": true
    },
    "kernelspec": {
      "name": "python3",
      "display_name": "Python 3"
    },
    "language_info": {
      "name": "python"
    }
  },
  "cells": [
    {
      "cell_type": "code",
      "source": [
        "!python --version"
      ],
      "metadata": {
        "colab": {
          "base_uri": "https://localhost:8080/"
        },
        "id": "TkL3cc86cXFg",
        "outputId": "bdbcd084-dfd4-46cd-c9fe-da01c997d075"
      },
      "execution_count": 8,
      "outputs": [
        {
          "output_type": "stream",
          "name": "stdout",
          "text": [
            "Python 3.7.13\n"
          ]
        }
      ]
    },
    {
      "cell_type": "markdown",
      "source": [
        "# 1. Типы данных"
      ],
      "metadata": {
        "id": "YGH5Py9PcRCi"
      }
    },
    {
      "cell_type": "markdown",
      "source": [
        "## 1.1. int"
      ],
      "metadata": {
        "id": "6gOYhaAAhOwE"
      }
    },
    {
      "cell_type": "code",
      "source": [
        "# Не пишем int x для объявления целого числа\n",
        "x = 5\n",
        "\n",
        "print(x)"
      ],
      "metadata": {
        "colab": {
          "base_uri": "https://localhost:8080/"
        },
        "id": "CEfO4wfKcSZl",
        "outputId": "c12b3f4b-46c9-435f-e9fe-7f9da4231c6d"
      },
      "execution_count": 2,
      "outputs": [
        {
          "output_type": "stream",
          "name": "stdout",
          "text": [
            "5\n"
          ]
        }
      ]
    },
    {
      "cell_type": "code",
      "source": [
        "print(type(x))"
      ],
      "metadata": {
        "colab": {
          "base_uri": "https://localhost:8080/"
        },
        "id": "8sftJRWleeE8",
        "outputId": "abd981dd-c8b9-43ae-af31-b1c4e027b44b"
      },
      "execution_count": 4,
      "outputs": [
        {
          "output_type": "stream",
          "name": "stdout",
          "text": [
            "<class 'int'>\n"
          ]
        }
      ]
    },
    {
      "cell_type": "code",
      "source": [
        "# Больше, Чем int64\n",
        "y = 2 ** 80\n",
        "\n",
        "print(y)"
      ],
      "metadata": {
        "colab": {
          "base_uri": "https://localhost:8080/"
        },
        "id": "J0Sn1_6AcXAy",
        "outputId": "f31a2c37-47f8-4024-a1d7-be1bc8ad69fb"
      },
      "execution_count": 5,
      "outputs": [
        {
          "output_type": "stream",
          "name": "stdout",
          "text": [
            "1208925819614629174706176\n"
          ]
        }
      ]
    },
    {
      "cell_type": "markdown",
      "source": [
        "- Динамическая типизация\n",
        "- Поддерживается длинная арифметика"
      ],
      "metadata": {
        "id": "WbhatG1UejGN"
      }
    },
    {
      "cell_type": "markdown",
      "source": [
        "## 1.2. float"
      ],
      "metadata": {
        "id": "LU6nKyJDhX1p"
      }
    },
    {
      "cell_type": "code",
      "source": [
        "num = 1.5\n",
        "print(num)"
      ],
      "metadata": {
        "colab": {
          "base_uri": "https://localhost:8080/"
        },
        "id": "Z3Usr_Oifg35",
        "outputId": "b8052e1e-3b67-44b8-fc09-820d5422050c"
      },
      "execution_count": 9,
      "outputs": [
        {
          "output_type": "stream",
          "name": "stdout",
          "text": [
            "1.5\n"
          ]
        }
      ]
    },
    {
      "cell_type": "code",
      "source": [
        "print(type(num))"
      ],
      "metadata": {
        "colab": {
          "base_uri": "https://localhost:8080/"
        },
        "id": "gLUNuQmehZyx",
        "outputId": "0f4acc20-728d-426d-b462-70d212cf7b7a"
      },
      "execution_count": 10,
      "outputs": [
        {
          "output_type": "stream",
          "name": "stdout",
          "text": [
            "<class 'float'>\n"
          ]
        }
      ]
    },
    {
      "cell_type": "code",
      "source": [
        "# Явное приведение типов\n",
        "\n",
        "num = int(num)\n",
        "\n",
        "print(num) # Теряем дробную часть вещественного числа\n",
        "print(type(num))"
      ],
      "metadata": {
        "colab": {
          "base_uri": "https://localhost:8080/"
        },
        "id": "P1diAgrhhZ1N",
        "outputId": "1131145a-a7c3-4a7b-fccd-150622e5643c"
      },
      "execution_count": 11,
      "outputs": [
        {
          "output_type": "stream",
          "name": "stdout",
          "text": [
            "1\n",
            "<class 'int'>\n"
          ]
        }
      ]
    },
    {
      "cell_type": "code",
      "source": [
        "# Неявное приведение типов\n",
        "\n",
        "num = 5\n",
        "print(num)\n",
        "print(type(num))\n",
        "\n",
        "num = num + 1.0\n",
        "print(num)\n",
        "print(type(num))"
      ],
      "metadata": {
        "colab": {
          "base_uri": "https://localhost:8080/"
        },
        "id": "dDzFJ_99iTSp",
        "outputId": "f6d18fba-00ae-4240-fc0c-2002f1f33409"
      },
      "execution_count": 14,
      "outputs": [
        {
          "output_type": "stream",
          "name": "stdout",
          "text": [
            "5\n",
            "<class 'int'>\n",
            "6.0\n",
            "<class 'float'>\n"
          ]
        }
      ]
    },
    {
      "cell_type": "markdown",
      "source": [
        "## 1.3. Логические тип (bool)"
      ],
      "metadata": {
        "id": "zkeYKYjt3rNk"
      }
    },
    {
      "cell_type": "code",
      "source": [
        "x = True\n",
        "\n",
        "print(x)\n",
        "print(type(x))"
      ],
      "metadata": {
        "colab": {
          "base_uri": "https://localhost:8080/"
        },
        "id": "VMJ5PejI3u1K",
        "outputId": "240dfb29-9b86-461c-d8bd-fc449c3db7c6"
      },
      "execution_count": 15,
      "outputs": [
        {
          "output_type": "stream",
          "name": "stdout",
          "text": [
            "True\n",
            "<class 'bool'>\n"
          ]
        }
      ]
    },
    {
      "cell_type": "code",
      "source": [
        "x = (12 < 7)\n",
        "\n",
        "print(x)\n",
        "print(type(x))"
      ],
      "metadata": {
        "colab": {
          "base_uri": "https://localhost:8080/"
        },
        "id": "f1HaPEdj3u3I",
        "outputId": "0d536a54-0f24-4c40-fd14-8fb4bf000f7a"
      },
      "execution_count": 18,
      "outputs": [
        {
          "output_type": "stream",
          "name": "stdout",
          "text": [
            "False\n",
            "<class 'bool'>\n"
          ]
        }
      ]
    },
    {
      "cell_type": "code",
      "source": [
        "x, y, z = True, False, True\n",
        "\n",
        "print(x and y or z)"
      ],
      "metadata": {
        "colab": {
          "base_uri": "https://localhost:8080/"
        },
        "id": "dW2pbMVe38zZ",
        "outputId": "0bac67ee-984f-4224-aebf-8e4b31932f7e"
      },
      "execution_count": 17,
      "outputs": [
        {
          "output_type": "stream",
          "name": "stdout",
          "text": [
            "True\n"
          ]
        }
      ]
    },
    {
      "cell_type": "code",
      "source": [
        ""
      ],
      "metadata": {
        "id": "tf-oe2wF3u57"
      },
      "execution_count": null,
      "outputs": []
    },
    {
      "cell_type": "markdown",
      "source": [
        "## Пример"
      ],
      "metadata": {
        "id": "b5M8H3zD2JbK"
      }
    },
    {
      "cell_type": "code",
      "source": [
        "# Задача: найти расстояние между двумя точками в декартовых координатах\n",
        "\n",
        "x1, x2 = 0, 0\n",
        "x2 = 3\n",
        "y2 = 4\n",
        "\n",
        "distance = \n",
        "print(distance)"
      ],
      "metadata": {
        "id": "o-eRRlV92Nen"
      },
      "execution_count": null,
      "outputs": []
    },
    {
      "cell_type": "code",
      "source": [
        ""
      ],
      "metadata": {
        "id": "h9nAKzrvfg6D"
      },
      "execution_count": null,
      "outputs": []
    },
    {
      "cell_type": "markdown",
      "source": [
        "О чем не поговорили:\n",
        "- Комплексные числа\n",
        "- Байтовые строки\n",
        "- Объект None"
      ],
      "metadata": {
        "id": "-BCY9do5ih_N"
      }
    },
    {
      "cell_type": "markdown",
      "source": [
        "# 2. Коллекции\n",
        "\n",
        "Sequences:\n",
        "- Изменяемые (list)\n",
        "- Неизменяемые (string, tuple)\n",
        "\n",
        "Sets:\n",
        "- Изменяемые (set)\n",
        "- Неизменяемые (frozenset)\n",
        "\n",
        "Mappings:\n",
        "- Изменяемые (dict)"
      ],
      "metadata": {
        "id": "NhnXAObhfhfz"
      }
    },
    {
      "cell_type": "markdown",
      "source": [
        "## 2.1. list"
      ],
      "metadata": {
        "id": "X_2Qzvtq54ar"
      }
    },
    {
      "cell_type": "code",
      "source": [
        "empty_list = []\n",
        "empty_list = list()\n",
        "\n",
        "names = ['Anna', 'Andrey', 'Alexander', 'Oleg']\n",
        "\n",
        "user_grades = [\n",
        "    ('Anna', 8),\n",
        "    ('Andrey', 7)              \n",
        "]"
      ],
      "metadata": {
        "id": "aGh0J7h9fl7e"
      },
      "execution_count": 51,
      "outputs": []
    },
    {
      "cell_type": "code",
      "source": [
        "print(len(names))   # Выполняется за константное время"
      ],
      "metadata": {
        "colab": {
          "base_uri": "https://localhost:8080/"
        },
        "id": "ej9XoNQ8IY6Z",
        "outputId": "3b9ca16f-4fb5-484b-f871-ed90faabc404"
      },
      "execution_count": 52,
      "outputs": [
        {
          "output_type": "stream",
          "name": "stdout",
          "text": [
            "4\n"
          ]
        }
      ]
    },
    {
      "cell_type": "code",
      "source": [
        "# Индексирование\n",
        "\n",
        "print(names[1:4:2])    # start, stop, step"
      ],
      "metadata": {
        "colab": {
          "base_uri": "https://localhost:8080/"
        },
        "id": "KAwfsZudIh2v",
        "outputId": "624d20f1-9c02-477c-bd22-36f8cde77bc0"
      },
      "execution_count": 53,
      "outputs": [
        {
          "output_type": "stream",
          "name": "stdout",
          "text": [
            "['Andrey', 'Oleg']\n"
          ]
        }
      ]
    },
    {
      "cell_type": "code",
      "source": [
        "# Изменяемость\n",
        "\n",
        "names[2] = 'Ivan'\n",
        "print(names)"
      ],
      "metadata": {
        "colab": {
          "base_uri": "https://localhost:8080/"
        },
        "id": "Wsp8z3G_IvB_",
        "outputId": "fd8d1bb6-a497-4e04-9b75-89a23fc5922f"
      },
      "execution_count": 54,
      "outputs": [
        {
          "output_type": "stream",
          "name": "stdout",
          "text": [
            "['Anna', 'Andrey', 'Ivan', 'Oleg']\n"
          ]
        }
      ]
    },
    {
      "cell_type": "code",
      "source": [
        "# Добавление элемента в список\n",
        "\n",
        "names.append('Irina')\n",
        "print(names)"
      ],
      "metadata": {
        "colab": {
          "base_uri": "https://localhost:8080/"
        },
        "id": "ktTGCsjfJ2Co",
        "outputId": "fe9926fb-22ba-4305-daec-455df65e03e8"
      },
      "execution_count": 55,
      "outputs": [
        {
          "output_type": "stream",
          "name": "stdout",
          "text": [
            "['Anna', 'Andrey', 'Ivan', 'Oleg', 'Irina']\n"
          ]
        }
      ]
    },
    {
      "cell_type": "code",
      "source": [
        "# Добавление элемента в список\n",
        "\n",
        "names.extend(['Kirill', 'Alexey'])\n",
        "print(names)"
      ],
      "metadata": {
        "colab": {
          "base_uri": "https://localhost:8080/"
        },
        "id": "q6vcBoMKJ_0l",
        "outputId": "dd816e3d-e44f-4aad-c154-cd1dedf84533"
      },
      "execution_count": 56,
      "outputs": [
        {
          "output_type": "stream",
          "name": "stdout",
          "text": [
            "['Anna', 'Andrey', 'Ivan', 'Oleg', 'Irina', 'Kirill', 'Alexey']\n"
          ]
        }
      ]
    },
    {
      "cell_type": "code",
      "source": [
        "# Циклы - итерируемые объекты:\n",
        "\n",
        "for name in names:\n",
        "    print(name)"
      ],
      "metadata": {
        "id": "ft3WtIL-NSJx"
      },
      "execution_count": null,
      "outputs": []
    },
    {
      "cell_type": "code",
      "source": [
        "# функция enumerate\n",
        "\n",
        "for i, name in enumerate(names):\n",
        "    print(i, name)"
      ],
      "metadata": {
        "id": "omsID8dlNWya"
      },
      "execution_count": null,
      "outputs": []
    },
    {
      "cell_type": "code",
      "source": [
        ""
      ],
      "metadata": {
        "id": "ubqip65wJNZy"
      },
      "execution_count": null,
      "outputs": []
    },
    {
      "cell_type": "markdown",
      "source": [
        "## 2.2. tuple"
      ],
      "metadata": {
        "id": "YJ42hXpF56z5"
      }
    },
    {
      "cell_type": "code",
      "source": [
        "empty_tuple = ()\n",
        "empty_tuple = tuple()"
      ],
      "metadata": {
        "id": "WHosLXgb2mgC"
      },
      "execution_count": null,
      "outputs": []
    },
    {
      "cell_type": "code",
      "source": [
        "second_names = ('Ivanov', 'Petrov')\n",
        "\n",
        "second_names[1] = 'Sidorov'"
      ],
      "metadata": {
        "id": "8JWWiT75KOA8"
      },
      "execution_count": 66,
      "outputs": []
    },
    {
      "cell_type": "code",
      "source": [
        ""
      ],
      "metadata": {
        "id": "Qy_evpEQKODl"
      },
      "execution_count": null,
      "outputs": []
    },
    {
      "cell_type": "markdown",
      "source": [
        "## 2.3. string"
      ],
      "metadata": {
        "id": "yDQkaqk_52Lc"
      }
    },
    {
      "cell_type": "code",
      "source": [
        "s1 = 'Привет, '\n",
        "s2 = 'Мир!'\n",
        "\n",
        "print(s1 + s2)"
      ],
      "metadata": {
        "colab": {
          "base_uri": "https://localhost:8080/"
        },
        "id": "CiqrbV1c2mh1",
        "outputId": "d91a6003-0aad-488a-8e33-8a157702ec25"
      },
      "execution_count": 19,
      "outputs": [
        {
          "output_type": "stream",
          "name": "stdout",
          "text": [
            "Привет, Мир!\n"
          ]
        }
      ]
    },
    {
      "cell_type": "code",
      "source": [
        "print(s1[:3])"
      ],
      "metadata": {
        "colab": {
          "base_uri": "https://localhost:8080/"
        },
        "id": "fBDbLINX6bI-",
        "outputId": "949d2659-33a6-4bfc-aee6-29f154a53d03"
      },
      "execution_count": 20,
      "outputs": [
        {
          "output_type": "stream",
          "name": "stdout",
          "text": [
            "При\n"
          ]
        }
      ]
    },
    {
      "cell_type": "code",
      "source": [
        "print(s1 * 3)"
      ],
      "metadata": {
        "colab": {
          "base_uri": "https://localhost:8080/"
        },
        "id": "DesrGQ7x6UuV",
        "outputId": "f829d55c-1c47-427c-c97c-d8d2275025b9"
      },
      "execution_count": 21,
      "outputs": [
        {
          "output_type": "stream",
          "name": "stdout",
          "text": [
            "Привет, Привет, Привет, \n"
          ]
        }
      ]
    },
    {
      "cell_type": "code",
      "source": [
        "# Неизменяемость\n",
        "\n",
        "s1 = 'Привет, '\n",
        "print(id(s1))\n",
        "s1 = s1 + 'Мир!' # Это уже новая строка\n",
        "print(id(s1))"
      ],
      "metadata": {
        "colab": {
          "base_uri": "https://localhost:8080/"
        },
        "id": "4v_gfsIK6mhW",
        "outputId": "04946765-a94a-4c12-c8b1-029e276cf8b7"
      },
      "execution_count": 22,
      "outputs": [
        {
          "output_type": "stream",
          "name": "stdout",
          "text": [
            "139872556943040\n",
            "139872556942928\n"
          ]
        }
      ]
    },
    {
      "cell_type": "code",
      "source": [
        "# Методы строк\n",
        "\n",
        "s1 = 'Привет, Приятель'\n",
        "s2 = '123'\n",
        "\n",
        "print(s1.lower())\n",
        "print(s2.isdigit())\n",
        "print(s1.count('р'))"
      ],
      "metadata": {
        "colab": {
          "base_uri": "https://localhost:8080/"
        },
        "id": "TN5_kyEu7Cif",
        "outputId": "69833ede-fc14-4b66-b9a8-96c116bddc57"
      },
      "execution_count": 26,
      "outputs": [
        {
          "output_type": "stream",
          "name": "stdout",
          "text": [
            "привет, приятель\n",
            "True\n",
            "2\n"
          ]
        }
      ]
    },
    {
      "cell_type": "code",
      "source": [
        ""
      ],
      "metadata": {
        "id": "cvkrnAnt6UxC"
      },
      "execution_count": null,
      "outputs": []
    },
    {
      "cell_type": "markdown",
      "source": [
        "## 2.4. set"
      ],
      "metadata": {
        "id": "Nfb8je0K6GQo"
      }
    },
    {
      "cell_type": "code",
      "source": [
        "# Для хранения объектов в множестве используется функция хеширования\n",
        "\n",
        "empty_set = set()\n",
        "\n",
        "number_set = {1, 2, 3, 3, 4, 5}   # элементы - неизменяемые\n",
        "print(number_set)"
      ],
      "metadata": {
        "colab": {
          "base_uri": "https://localhost:8080/"
        },
        "id": "eprPzUKH6FoR",
        "outputId": "22ed748f-856f-410d-e838-4b58c6797777"
      },
      "execution_count": 75,
      "outputs": [
        {
          "output_type": "stream",
          "name": "stdout",
          "text": [
            "{1, 2, 3, 4, 5}\n"
          ]
        }
      ]
    },
    {
      "cell_type": "code",
      "source": [
        "print(2 in number_set)"
      ],
      "metadata": {
        "colab": {
          "base_uri": "https://localhost:8080/"
        },
        "id": "3TQ1LcXrO8JD",
        "outputId": "14d4126e-0791-4d14-cfa1-a4d132e6af6e"
      },
      "execution_count": 76,
      "outputs": [
        {
          "output_type": "stream",
          "name": "stdout",
          "text": [
            "True\n"
          ]
        }
      ]
    },
    {
      "cell_type": "code",
      "source": [
        "# Добавление элементов\n",
        "\n",
        "number_set.add(6)\n",
        "print(number_set)"
      ],
      "metadata": {
        "colab": {
          "base_uri": "https://localhost:8080/"
        },
        "id": "eM3oVp9M6JNm",
        "outputId": "67f4e504-7c0a-43b9-f4e2-53c33976159d"
      },
      "execution_count": 85,
      "outputs": [
        {
          "output_type": "stream",
          "name": "stdout",
          "text": [
            "{1, 2, 3, 4, 5, 6}\n"
          ]
        }
      ]
    },
    {
      "cell_type": "code",
      "source": [
        "# Удаление элементов\n",
        "\n",
        "number_set.remove(6)\n",
        "print(number_set)"
      ],
      "metadata": {
        "colab": {
          "base_uri": "https://localhost:8080/"
        },
        "id": "KuCzCLMMQMnl",
        "outputId": "986241b6-3090-4a93-9ecd-3c43354a3dea"
      },
      "execution_count": 87,
      "outputs": [
        {
          "output_type": "stream",
          "name": "stdout",
          "text": [
            "{1, 2, 3, 4, 5}\n"
          ]
        }
      ]
    },
    {
      "cell_type": "code",
      "source": [
        "first_set = {1, 2, 3, 4, 5}\n",
        "second_set = {4, 5, 6, 7, 8}\n",
        "\n",
        "print(first_set | second_set)\n",
        "print(first_set & second_set)"
      ],
      "metadata": {
        "colab": {
          "base_uri": "https://localhost:8080/"
        },
        "id": "UyrqyTBLPo_M",
        "outputId": "a688b7f5-3b03-4771-83e1-327806f81c28"
      },
      "execution_count": 81,
      "outputs": [
        {
          "output_type": "stream",
          "name": "stdout",
          "text": [
            "{1, 2, 3, 4, 5, 6, 7, 8}\n",
            "{4, 5}\n"
          ]
        }
      ]
    },
    {
      "cell_type": "code",
      "source": [
        "print(first_set - second_set)"
      ],
      "metadata": {
        "colab": {
          "base_uri": "https://localhost:8080/"
        },
        "id": "7wpi9ghJP_rD",
        "outputId": "dab0d430-3f0f-44f0-f847-9e630f8b3960"
      },
      "execution_count": 82,
      "outputs": [
        {
          "output_type": "stream",
          "name": "stdout",
          "text": [
            "{1, 2, 3}\n"
          ]
        }
      ]
    },
    {
      "cell_type": "markdown",
      "source": [
        "- Неупорядоченный набор уникальных объектов\n",
        "- Быстрая проверка на вхождения элемента в множество\n",
        "- Операции над множествами"
      ],
      "metadata": {
        "id": "P4sYvKoKPPsf"
      }
    },
    {
      "cell_type": "markdown",
      "source": [
        "## 2.5. dict"
      ],
      "metadata": {
        "id": "ddUTTT7k6JcM"
      }
    },
    {
      "cell_type": "code",
      "source": [
        "empty_dict = {}\n",
        "empty_dict = dict()"
      ],
      "metadata": {
        "id": "atK0d1qw6L_J"
      },
      "execution_count": 58,
      "outputs": []
    },
    {
      "cell_type": "code",
      "source": [
        "collections_map = {\n",
        "    'mutable': ['list', 'set', 'dict'],\n",
        "    'immutables': ['tuple', 'frozenset']\n",
        "}"
      ],
      "metadata": {
        "id": "VyrQ8Q_E6MB1"
      },
      "execution_count": 59,
      "outputs": []
    },
    {
      "cell_type": "code",
      "source": [
        "# Получаем значение по ключу (за константное время)\n",
        "\n",
        "collections_map['mutable']"
      ],
      "metadata": {
        "colab": {
          "base_uri": "https://localhost:8080/"
        },
        "id": "zbSIecee6Fq_",
        "outputId": "3b456c01-5025-4e3f-8403-df7b652648ee"
      },
      "execution_count": 60,
      "outputs": [
        {
          "output_type": "execute_result",
          "data": {
            "text/plain": [
              "['list', 'set', 'dict']"
            ]
          },
          "metadata": {},
          "execution_count": 60
        }
      ]
    },
    {
      "cell_type": "code",
      "source": [
        "# Проверка, есть ли ключ в словаре\n",
        "\n",
        "'mutable' in collections_map"
      ],
      "metadata": {
        "colab": {
          "base_uri": "https://localhost:8080/"
        },
        "id": "WT4iy73BMLnz",
        "outputId": "99149fa4-de6c-4336-fcea-004acc3bd564"
      },
      "execution_count": 61,
      "outputs": [
        {
          "output_type": "execute_result",
          "data": {
            "text/plain": [
              "True"
            ]
          },
          "metadata": {},
          "execution_count": 61
        }
      ]
    },
    {
      "cell_type": "code",
      "source": [
        "# Изменение словаря\n",
        "\n",
        "collections_map['something'] = ['turtle']\n",
        "print(collections_map)"
      ],
      "metadata": {
        "colab": {
          "base_uri": "https://localhost:8080/"
        },
        "id": "JH7wEoScMfnI",
        "outputId": "4a5e0fb1-b6f3-492c-88c0-caffbd8560be"
      },
      "execution_count": 63,
      "outputs": [
        {
          "output_type": "stream",
          "name": "stdout",
          "text": [
            "{'mutable': ['list', 'set', 'dict'], 'immutables': ['tuple', 'frozenset'], 'something': ['turtle']}\n"
          ]
        }
      ]
    },
    {
      "cell_type": "code",
      "source": [
        "# Удаление элемента из словаря\n",
        "\n",
        "del collections_map['something']\n",
        "print(collections_map)"
      ],
      "metadata": {
        "colab": {
          "base_uri": "https://localhost:8080/"
        },
        "id": "mlenmF21Msgn",
        "outputId": "b4b8fc87-b1d2-4526-e665-024e78834bd8"
      },
      "execution_count": 64,
      "outputs": [
        {
          "output_type": "stream",
          "name": "stdout",
          "text": [
            "{'mutable': ['list', 'set', 'dict'], 'immutables': ['tuple', 'frozenset']}\n"
          ]
        }
      ]
    },
    {
      "cell_type": "code",
      "source": [
        "for key in collections_map:\n",
        "    print(value)"
      ],
      "metadata": {
        "colab": {
          "base_uri": "https://localhost:8080/"
        },
        "id": "TPbP7igfNIWP",
        "outputId": "f794a2ad-358d-475c-d01c-a56ad43e70ab"
      },
      "execution_count": 65,
      "outputs": [
        {
          "output_type": "stream",
          "name": "stdout",
          "text": [
            "mutable\n",
            "immutables\n"
          ]
        }
      ]
    },
    {
      "cell_type": "code",
      "source": [
        "for items in collections_map.items():\n",
        "    print(items[0], items[1])"
      ],
      "metadata": {
        "colab": {
          "base_uri": "https://localhost:8080/"
        },
        "id": "MBX8dJsRNiAC",
        "outputId": "d461e277-3cb2-454b-e7fd-5c9552bae016"
      },
      "execution_count": 68,
      "outputs": [
        {
          "output_type": "stream",
          "name": "stdout",
          "text": [
            "mutable ['list', 'set', 'dict']\n",
            "immutables ['tuple', 'frozenset']\n"
          ]
        }
      ]
    },
    {
      "cell_type": "code",
      "source": [
        "for value in collections_map.values():\n",
        "    print(value)"
      ],
      "metadata": {
        "colab": {
          "base_uri": "https://localhost:8080/"
        },
        "id": "05wk_6U2Nrrs",
        "outputId": "98da53d3-c68e-481d-cb40-a7b951edce62"
      },
      "execution_count": 69,
      "outputs": [
        {
          "output_type": "stream",
          "name": "stdout",
          "text": [
            "['list', 'set', 'dict']\n",
            "['tuple', 'frozenset']\n"
          ]
        }
      ]
    },
    {
      "cell_type": "markdown",
      "source": [
        "- Неупорядоченный набор пар ключ-значение\n",
        "- Быстрое получение значения по ключу\n",
        "- Быстрая проверка на вхождения ключа в словарь"
      ],
      "metadata": {
        "id": "P8LAXNepN2Gr"
      }
    },
    {
      "cell_type": "code",
      "source": [
        ""
      ],
      "metadata": {
        "id": "p-8GgqwjN5iz"
      },
      "execution_count": null,
      "outputs": []
    },
    {
      "cell_type": "markdown",
      "source": [
        "# 3. Условные операторы\n",
        "- Выполняем блок кода в зависимости от условия"
      ],
      "metadata": {
        "id": "BUiFL5CCcXNk"
      }
    },
    {
      "cell_type": "markdown",
      "source": [
        "## 3.1. if"
      ],
      "metadata": {
        "id": "mhO3CHv6C6Ag"
      }
    },
    {
      "cell_type": "code",
      "source": [
        "company = 'google.com'\n",
        "\n",
        "if 'my' in company:\n",
        "    print('Условие выполнено')\n",
        "elif 'google' in company:\n",
        "    print('Подстрока google найдена в строке')\n",
        "else:\n",
        "    print('Подстрока не найдена')"
      ],
      "metadata": {
        "id": "1dTDr6KocePg"
      },
      "execution_count": null,
      "outputs": []
    },
    {
      "cell_type": "code",
      "source": [
        ""
      ],
      "metadata": {
        "id": "WQ3oH2EvceR1"
      },
      "execution_count": null,
      "outputs": []
    },
    {
      "cell_type": "code",
      "source": [
        ""
      ],
      "metadata": {
        "id": "LS32oOOYceUB"
      },
      "execution_count": null,
      "outputs": []
    },
    {
      "cell_type": "markdown",
      "source": [
        "# 4. Циклы"
      ],
      "metadata": {
        "id": "D1DPPZQgceaf"
      }
    },
    {
      "cell_type": "markdown",
      "source": [
        "## 4.1. while"
      ],
      "metadata": {
        "id": "sEboTFiuDhwI"
      }
    },
    {
      "cell_type": "code",
      "source": [
        "i = 0\n",
        "\n",
        "while i < 100:\n",
        "    i += 1\n",
        "\n",
        "print(i)"
      ],
      "metadata": {
        "id": "U4-58pgvcXwb"
      },
      "execution_count": null,
      "outputs": []
    },
    {
      "cell_type": "code",
      "source": [
        ""
      ],
      "metadata": {
        "id": "NdgtGT3gDqCT"
      },
      "execution_count": null,
      "outputs": []
    },
    {
      "cell_type": "code",
      "source": [
        ""
      ],
      "metadata": {
        "id": "Ae1c8zjjDqEz"
      },
      "execution_count": null,
      "outputs": []
    },
    {
      "cell_type": "markdown",
      "source": [
        "## 4.2. for"
      ],
      "metadata": {
        "id": "orqLQeC6DqYa"
      }
    },
    {
      "cell_type": "code",
      "source": [
        "name = \"Alex\"\n",
        "\n",
        "for letter in name:\n",
        "    print(letter)"
      ],
      "metadata": {
        "id": "07fcm9F2cgaQ"
      },
      "execution_count": null,
      "outputs": []
    },
    {
      "cell_type": "code",
      "source": [
        "for i in range(3, 10, 2):\n",
        "  print(i)"
      ],
      "metadata": {
        "colab": {
          "base_uri": "https://localhost:8080/"
        },
        "id": "At3CiFf_cgcV",
        "outputId": "2bb05e99-e502-4962-9f82-a5553aeb2994"
      },
      "execution_count": 34,
      "outputs": [
        {
          "output_type": "stream",
          "name": "stdout",
          "text": [
            "3\n",
            "5\n",
            "7\n",
            "9\n"
          ]
        }
      ]
    },
    {
      "cell_type": "code",
      "source": [
        "# Оператор break\n",
        "\n",
        "for i in range(1, 10):\n",
        "\n",
        "    print(i)\n",
        "\n",
        "    if i % 5 == 0:\n",
        "        break"
      ],
      "metadata": {
        "colab": {
          "base_uri": "https://localhost:8080/"
        },
        "id": "8N4UfUEfEYFf",
        "outputId": "c244e487-55f9-49c0-fb7a-c665bb534cff"
      },
      "execution_count": 33,
      "outputs": [
        {
          "output_type": "stream",
          "name": "stdout",
          "text": [
            "1\n",
            "2\n",
            "3\n",
            "4\n",
            "5\n"
          ]
        }
      ]
    },
    {
      "cell_type": "code",
      "source": [
        "# Оператор continue\n",
        "\n",
        "for i in range(1, 10):\n",
        "\n",
        "    if i in [3, 4, 5, 6]:\n",
        "        continue\n",
        "\n",
        "    print(i)"
      ],
      "metadata": {
        "colab": {
          "base_uri": "https://localhost:8080/"
        },
        "id": "uTtgwi7uFyGj",
        "outputId": "21df8571-f6c9-4937-b030-b6d6d6f8948b"
      },
      "execution_count": 35,
      "outputs": [
        {
          "output_type": "stream",
          "name": "stdout",
          "text": [
            "1\n",
            "2\n",
            "7\n",
            "8\n",
            "9\n"
          ]
        }
      ]
    },
    {
      "cell_type": "code",
      "source": [
        ""
      ],
      "metadata": {
        "id": "JWULKWSrD3lv"
      },
      "execution_count": null,
      "outputs": []
    },
    {
      "cell_type": "markdown",
      "source": [
        "## Пример"
      ],
      "metadata": {
        "id": "UY__TD5yD6FX"
      }
    },
    {
      "cell_type": "code",
      "source": [
        "# Задача: Найти сумму четных элементов от 0 до 100 включительно\n",
        "\n",
        "sum = 0"
      ],
      "metadata": {
        "id": "4Oynkg7sD3n-"
      },
      "execution_count": null,
      "outputs": []
    },
    {
      "cell_type": "code",
      "source": [
        ""
      ],
      "metadata": {
        "id": "YlYL0V6ID3p6"
      },
      "execution_count": null,
      "outputs": []
    },
    {
      "cell_type": "code",
      "source": [
        ""
      ],
      "metadata": {
        "id": "hrPBT87lcgew"
      },
      "execution_count": null,
      "outputs": []
    },
    {
      "cell_type": "markdown",
      "source": [
        "# 5. Функции"
      ],
      "metadata": {
        "id": "_4n8Kv-Lcg7i"
      }
    },
    {
      "cell_type": "code",
      "source": [
        "def get_seconds(number):\n",
        "    \"\"\"Return squared number\"\"\"\n",
        "    return number ** 2\n",
        "\n",
        "\n",
        "print(get_seconds(4))"
      ],
      "metadata": {
        "colab": {
          "base_uri": "https://localhost:8080/"
        },
        "id": "ZbgvDue3cXyo",
        "outputId": "bd56581b-4a4b-4c4d-d79b-ed6c6a404092"
      },
      "execution_count": 90,
      "outputs": [
        {
          "output_type": "stream",
          "name": "stdout",
          "text": [
            "16\n"
          ]
        }
      ]
    },
    {
      "cell_type": "code",
      "source": [
        "# Аннотация типов\n",
        "\n",
        "def add(x: int, y: int) -> int:\n",
        "    return x + y\n",
        "\n",
        "print(add(10, 11))\n",
        "print(add('still ', 'works')) # Все равно работает"
      ],
      "metadata": {
        "colab": {
          "base_uri": "https://localhost:8080/"
        },
        "id": "rnYx7LCNc7Wn",
        "outputId": "b8543d1e-393c-4413-a3a9-91475330ce25"
      },
      "execution_count": 91,
      "outputs": [
        {
          "output_type": "stream",
          "name": "stdout",
          "text": [
            "21\n",
            "stillworks\n"
          ]
        }
      ]
    },
    {
      "cell_type": "code",
      "source": [
        "# Передаем в функцию ссылку на объект памяти\n",
        "\n",
        "def extender(source_list, extended_list):\n",
        "    source_list.extend(extended_list)\n",
        "\n",
        "\n",
        "values = [1, 2, 3]\n",
        "extender(values, [4, 5, 6])\n",
        "\n",
        "print(values)"
      ],
      "metadata": {
        "colab": {
          "base_uri": "https://localhost:8080/"
        },
        "id": "uWSnVatbSdLw",
        "outputId": "922322eb-1263-496c-8462-7b09f909e7f6"
      },
      "execution_count": 93,
      "outputs": [
        {
          "output_type": "stream",
          "name": "stdout",
          "text": [
            "[1, 2, 3, 4, 5, 6]\n"
          ]
        }
      ]
    },
    {
      "cell_type": "code",
      "source": [
        "def replacer(source_tuple, replace_tuple):\n",
        "    source_tuple = replace_tuple\n",
        "\n",
        "\n",
        "user_info = ('Guido', '31/01')\n",
        "replacer(user_info, ('Larry', '27/09'))\n",
        "\n",
        "print(user_info) # Объект остался неизменным"
      ],
      "metadata": {
        "colab": {
          "base_uri": "https://localhost:8080/"
        },
        "id": "Hp7AnSM4SMi3",
        "outputId": "9c15c986-fae1-42b1-d575-7d06c5111a3b"
      },
      "execution_count": 94,
      "outputs": [
        {
          "output_type": "stream",
          "name": "stdout",
          "text": [
            "('Guido', '31/01')\n"
          ]
        }
      ]
    },
    {
      "cell_type": "code",
      "source": [
        "# Именованные аргументы\n",
        "\n",
        "def say(first_name, second_name):\n",
        "    print('Hello,', first_name, second_name)\n",
        "\n",
        "say('Ivan', 'Ivanov')\n",
        "say(first_name='Ivan', second_name='Ivanov')"
      ],
      "metadata": {
        "colab": {
          "base_uri": "https://localhost:8080/"
        },
        "id": "jn2gIY65TT_C",
        "outputId": "88133cd3-097f-4622-a61d-d45fb1463ed9"
      },
      "execution_count": 97,
      "outputs": [
        {
          "output_type": "stream",
          "name": "stdout",
          "text": [
            "Hello, Ivan Ivanov\n",
            "Hello, Ivan Ivanov\n"
          ]
        }
      ]
    },
    {
      "cell_type": "code",
      "source": [
        "# Области видимости\n",
        "\n",
        "result = 0\n",
        "\n",
        "def increment():\n",
        "    result += 1   # Внутри функции нельзя изменять объекты из глобальной области видимости\n",
        "    return result\n",
        "\n",
        "print(increment())"
      ],
      "metadata": {
        "id": "otvf1wLZT5lB"
      },
      "execution_count": null,
      "outputs": []
    },
    {
      "cell_type": "code",
      "source": [
        "# Аргументы по умолчанию\n",
        "\n",
        "\n",
        "def append(obj='hello, '):\n",
        "    obj += 'friend'\n",
        "    print(obj)\n",
        "\n",
        "append()"
      ],
      "metadata": {
        "colab": {
          "base_uri": "https://localhost:8080/"
        },
        "id": "FBoUO3Q8UYh8",
        "outputId": "ebf98380-145a-4f8d-edf3-f078316927ac"
      },
      "execution_count": 101,
      "outputs": [
        {
          "output_type": "stream",
          "name": "stdout",
          "text": [
            "hello, friend\n"
          ]
        }
      ]
    },
    {
      "cell_type": "code",
      "source": [
        "def append_one(iterable=[]):   # Изменяемое значение в аргументе по умолчанию\n",
        "    iterable.append(1)\n",
        "    return iterable\n",
        "\n",
        "print(append_one([1]))"
      ],
      "metadata": {
        "colab": {
          "base_uri": "https://localhost:8080/"
        },
        "id": "zqSwpM4yU9GW",
        "outputId": "9aad6a78-c635-4448-c0ea-3b64bfbc54dc"
      },
      "execution_count": 104,
      "outputs": [
        {
          "output_type": "stream",
          "name": "stdout",
          "text": [
            "[1, 1]\n"
          ]
        }
      ]
    },
    {
      "cell_type": "code",
      "source": [
        "print(append_one())   # Дефолтное значение изменилось\n",
        "print(append_one())"
      ],
      "metadata": {
        "colab": {
          "base_uri": "https://localhost:8080/"
        },
        "id": "BrfXKfK0VSvY",
        "outputId": "c2aeeb20-6691-4003-f803-8126bbb40992"
      },
      "execution_count": 105,
      "outputs": [
        {
          "output_type": "stream",
          "name": "stdout",
          "text": [
            "[1]\n",
            "[1, 1]\n"
          ]
        }
      ]
    },
    {
      "cell_type": "code",
      "source": [
        ""
      ],
      "metadata": {
        "id": "P9milQBsc7Y5"
      },
      "execution_count": null,
      "outputs": []
    },
    {
      "cell_type": "markdown",
      "source": [
        "О чем не поговорили:\n",
        "- Генераторы\n",
        "- Декораторы\n",
        "- Многое другое"
      ],
      "metadata": {
        "id": "KL_IzJdTQ3J0"
      }
    },
    {
      "cell_type": "markdown",
      "source": [
        "# 6. Классы\n",
        "\n",
        "- Объединение функционала, связанного общей идеей, в одну сущность\n",
        "- У этой сущности может быть внутреннее состояние и методы"
      ],
      "metadata": {
        "id": "S88Ig2csc-KM"
      }
    },
    {
      "cell_type": "code",
      "source": [
        "num = 3\n",
        "\n",
        "print(type(num))"
      ],
      "metadata": {
        "colab": {
          "base_uri": "https://localhost:8080/"
        },
        "id": "I6A29CnqcX02",
        "outputId": "c648084a-3f9b-414f-b100-2909e4bcbad4"
      },
      "execution_count": 110,
      "outputs": [
        {
          "output_type": "stream",
          "name": "stdout",
          "text": [
            "<class 'int'>\n"
          ]
        }
      ]
    },
    {
      "cell_type": "code",
      "source": [
        "class Vehicle(object):\n",
        "    \"\"\"docstring\"\"\"\n",
        " \n",
        "    def __init__(self, color, doors, tires):\n",
        "        \"\"\"Constructor\"\"\"\n",
        "        self.color = color\n",
        "        self.doors = doors\n",
        "        self.tires = tires\n",
        "    \n",
        "    def brake(self):\n",
        "        \"\"\"\n",
        "        Stop the car\n",
        "        \"\"\"\n",
        "        return \"Braking\"\n",
        "    \n",
        "    def drive(self):\n",
        "        \"\"\"\n",
        "        Drive the car\n",
        "        \"\"\"\n",
        "        return \"I'm driving!\""
      ],
      "metadata": {
        "id": "R2OMxzWAWF4X"
      },
      "execution_count": 112,
      "outputs": []
    },
    {
      "cell_type": "code",
      "source": [
        "car = Vehicle(\"blue\", 5, 4)\n",
        "print(car.color)\n",
        "\n",
        "truck = Vehicle(\"red\", 3, 6)\n",
        "print(truck.color)"
      ],
      "metadata": {
        "colab": {
          "base_uri": "https://localhost:8080/"
        },
        "id": "wS1MHFvrWF6a",
        "outputId": "cbf86ce9-d37e-4dd0-b799-37baa3366212"
      },
      "execution_count": 113,
      "outputs": [
        {
          "output_type": "stream",
          "name": "stdout",
          "text": [
            "blue\n",
            "red\n"
          ]
        }
      ]
    },
    {
      "cell_type": "code",
      "source": [
        "car = Vehicle(\"blue\", 5, 4)\n",
        "print(car.brake())\n",
        "print(car.drive())\n",
        "\n",
        "truck = Vehicle(\"red\", 3, 6)\n",
        "print(truck.drive())\n",
        "print(truck.brake())"
      ],
      "metadata": {
        "colab": {
          "base_uri": "https://localhost:8080/"
        },
        "id": "e6WNKvsWdBjK",
        "outputId": "ebbd872f-c241-47b9-8fcd-e6ec694fc97d"
      },
      "execution_count": 115,
      "outputs": [
        {
          "output_type": "stream",
          "name": "stdout",
          "text": [
            "Braking\n",
            "I'm driving!\n",
            "I'm driving!\n",
            "Braking\n"
          ]
        }
      ]
    },
    {
      "cell_type": "code",
      "source": [
        ""
      ],
      "metadata": {
        "id": "pSKgNc5rdBlm"
      },
      "execution_count": null,
      "outputs": []
    },
    {
      "cell_type": "code",
      "source": [
        ""
      ],
      "metadata": {
        "id": "taDcqqkKdBnv"
      },
      "execution_count": null,
      "outputs": []
    },
    {
      "cell_type": "markdown",
      "source": [
        "# В следующей части\n",
        "\n",
        "1. Считываение из файлов\n",
        "2. Библиотека numpy (?)\n",
        "\n",
        "3. Асимптотики алгоритмов\n",
        "\n",
        "4. Базовые алгоритмы"
      ],
      "metadata": {
        "id": "2DYU35sni1_J"
      }
    },
    {
      "cell_type": "code",
      "source": [
        ""
      ],
      "metadata": {
        "id": "D7wQdmK-dBp_"
      },
      "execution_count": null,
      "outputs": []
    }
  ]
}